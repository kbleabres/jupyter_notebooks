{
 "cells": [
  {
   "cell_type": "code",
   "execution_count": 81,
   "metadata": {},
   "outputs": [],
   "source": [
    "from sklearn.datasets import load_digits\n",
    "import numpy as np\n",
    "import tflearn\n",
    "from tflearn.layers.core import input_data, dropout, fully_connected\n",
    "from tflearn.layers.estimator import regression\n",
    "import matplotlib.pyplot as plt"
   ]
  },
  {
   "cell_type": "code",
   "execution_count": 2,
   "metadata": {
    "scrolled": true
   },
   "outputs": [],
   "source": [
    "(pixels, targets) = load_digits(return_X_y=True)"
   ]
  },
  {
   "cell_type": "code",
   "execution_count": 3,
   "metadata": {},
   "outputs": [],
   "source": [
    "def neural_network_model(input_size, lr):\n",
    "    network = input_data(shape=[None, input_size], name='state')\n",
    "    \n",
    "    network = fully_connected(network, 128, activation='relu')\n",
    "    network = dropout(network, 0.8)\n",
    "    \n",
    "    network = fully_connected(network, 256, activation='relu')\n",
    "    network = dropout(network, 0.8)\n",
    "    \n",
    "    network = fully_connected(network, 512, activation='relu')\n",
    "    network = dropout(network, 0.8)\n",
    "    \n",
    "    network = fully_connected(network, 256, activation='relu')\n",
    "    network = dropout(network, 0.8)\n",
    "    \n",
    "    network = fully_connected(network, 128, activation='relu')\n",
    "    network = dropout(network, 0.8)\n",
    "    \n",
    "    network = fully_connected(network, 10, activation='softmax')\n",
    "    network = regression(network, optimizer='adam', learning_rate=lr, loss='categorical_crossentropy', name='iris')\n",
    "    \n",
    "    model = tflearn.DNN(network, tensorboard_dir='log')\n",
    "    \n",
    "    return model\n",
    "    "
   ]
  },
  {
   "cell_type": "code",
   "execution_count": 4,
   "metadata": {},
   "outputs": [],
   "source": [
    "def format_y(target):\n",
    "    label = np.zeros(10)\n",
    "    label[target] = 1\n",
    "    return label"
   ]
  },
  {
   "cell_type": "code",
   "execution_count": 5,
   "metadata": {},
   "outputs": [],
   "source": [
    "x_train = pixels\n",
    "y_train = list(map(format_y, targets))"
   ]
  },
  {
   "cell_type": "code",
   "execution_count": 6,
   "metadata": {},
   "outputs": [
    {
     "name": "stdout",
     "output_type": "stream",
     "text": [
      "Training Step: 14499  | total loss: \u001b[1m\u001b[32m0.44117\u001b[0m\u001b[0m | time: 0.421s\n",
      "| Adam | epoch: 500 | loss: 0.44117 - acc: 0.9357 -- iter: 1792/1797\n",
      "Training Step: 14500  | total loss: \u001b[1m\u001b[32m0.40650\u001b[0m\u001b[0m | time: 0.445s\n",
      "| Adam | epoch: 500 | loss: 0.40650 - acc: 0.9390 -- iter: 1797/1797\n",
      "--\n"
     ]
    }
   ],
   "source": [
    "model = neural_network_model(64, 0.00001)\n",
    "model.fit(x_train, y_train, n_epoch=500, snapshot_step=5, show_metric=True, run_id='flower')"
   ]
  },
  {
   "cell_type": "code",
   "execution_count": 7,
   "metadata": {},
   "outputs": [],
   "source": [
    "#predictions = model.predict(x_train[:10])\n"
   ]
  },
  {
   "cell_type": "code",
   "execution_count": 89,
   "metadata": {},
   "outputs": [
    {
     "data": {
      "text/plain": [
       "<Figure size 432x288 with 0 Axes>"
      ]
     },
     "metadata": {},
     "output_type": "display_data"
    },
    {
     "data": {
      "image/png": "[encoded data removed]",
      "text/plain": [
       "<Figure size 288x288 with 1 Axes>"
      ]
     },
     "metadata": {},
     "output_type": "display_data"
    },
    {
     "data": {
      "text/plain": [
       "array([[1.3815871e-10, 9.9638224e-01, 8.0302656e-05, 3.9322208e-09,\n",
       "        4.0350668e-04, 3.6988234e-07, 1.3869788e-04, 6.4033816e-06,\n",
       "        2.9884395e-03, 2.9601352e-08]], dtype=float32)"
      ]
     },
     "execution_count": 89,
     "metadata": {},
     "output_type": "execute_result"
    }
   ],
   "source": [
    "i = 4\n",
    "\n",
    "predictions = list(map(lambda x: x.argmax(), predictions))\n",
    "def humanize_predictions(predictions):\n",
    "    humanized_predictions = []\n",
    "    for prediction in predictions:\n",
    "        humanized_predictions.append(prediction.argmax())\n",
    "    return humanized_predictions\n",
    "humanize_predictions(predictions)\n",
    "\n",
    "plt.gray()\n",
    "plt.matshow(x_train[i].reshape(8,8))\n",
    "plt.show()\n",
    "list(map(format_y,/model.predict([x_train[1]])))\n"
   ]
  }
 ],
 "metadata": {
  "kernelspec": {
   "display_name": "Python 3",
   "language": "python",
   "name": "python3"
  },
  "language_info": {
   "codemirror_mode": {
    "name": "ipython",
    "version": 3
   },
   "file_extension": ".py",
   "mimetype": "text/x-python",
   "name": "python",
   "nbconvert_exporter": "python",
   "pygments_lexer": "ipython3",
   "version": "3.6.5"
  }
 },
 "nbformat": 4,
 "nbformat_minor": 2
}
